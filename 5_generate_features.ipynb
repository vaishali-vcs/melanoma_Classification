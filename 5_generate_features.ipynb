{
 "cells": [
  {
   "cell_type": "markdown",
   "metadata": {
    "papermill": {
     "duration": 0.017643,
     "end_time": "2020-08-14T02:17:35.263654",
     "exception": false,
     "start_time": "2020-08-14T02:17:35.246011",
     "status": "completed"
    },
    "tags": []
   },
   "source": [
    "# Generate Features\n",
    "\n",
    "The purpose of this kernel is just to create a few datasets that can be used for further exploration and modeling in other kernels. \n",
    "It turns out that just the image metadata and and the image size contains a lot of useful information We'll start by creating feature-engineered datasets with just that information.\n",
    "\n",
    "<u>**Contents**</u>\n",
    "1. Import data\n",
    "2. Data Imputation<br>\n",
    "    2.1 Approach 1<br>\n",
    "    2.2 Approach 2<br>\n",
    "\n",
    "## 1. Import data\n",
    "The below code imports necessary libraries and also imports metadata into dataframe."
   ]
  },
  {
   "cell_type": "code",
   "execution_count": 1,
   "metadata": {
    "_cell_guid": "b1076dfc-b9ad-4769-8c92-a6c4dae69d19",
    "_uuid": "8f2839f25d086af736a60e9eeb907d3b93b6e0e5",
    "execution": {
     "iopub.execute_input": "2020-08-14T02:17:35.325620Z",
     "iopub.status.busy": "2020-08-14T02:17:35.324659Z",
     "iopub.status.idle": "2020-08-14T02:17:36.742979Z",
     "shell.execute_reply": "2020-08-14T02:17:36.742293Z"
    },
    "papermill": {
     "duration": 1.439471,
     "end_time": "2020-08-14T02:17:36.743178",
     "exception": false,
     "start_time": "2020-08-14T02:17:35.303707",
     "status": "completed"
    },
    "tags": []
   },
   "outputs": [],
   "source": [
    "import numpy as np\n",
    "import pandas as pd\n",
    "import os\n",
    "from PIL import Image\n",
    "from tqdm import tqdm\n",
    "from sklearn import preprocessing\n",
    "from sklearn.model_selection import StratifiedKFold,cross_val_score\n",
    "from sklearn.metrics import roc_auc_score\n",
    "\n",
    "import lightgbm as lgb\n",
    "\n",
    "train = pd.read_csv('../input/siim-isic-melanoma-classification/train.csv')\n",
    "test = pd.read_csv('../input/siim-isic-melanoma-classification/test.csv')\n",
    "sample = pd.read_csv('../input/siim-isic-melanoma-classification/sample_submission.csv')"
   ]
  },
  {
   "cell_type": "markdown",
   "metadata": {},
   "source": [
    "## 2. Data Imputation\n",
    "\n",
    "### 2.1 Approach 1\n",
    "Following features found in the train.csv and test.csv are imputated.\n",
    "* Sex with na\n",
    "* age_approx with 0\n",
    "* anatom_site_general_challenge with na"
   ]
  },
  {
   "cell_type": "code",
   "execution_count": null,
   "metadata": {
    "_cell_guid": "79c7e3d0-c299-4dcb-8224-4455121ee9b0",
    "_uuid": "d629ff2d2480ee46fbb7e2d37f6b5fab8052498a",
    "papermill": {
     "duration": 0.011893,
     "end_time": "2020-08-14T02:17:36.767410",
     "exception": false,
     "start_time": "2020-08-14T02:17:36.755517",
     "status": "completed"
    },
    "tags": []
   },
   "outputs": [],
   "source": [
    "train['sex'] = train['sex'].fillna('na')\n",
    "train['age_approx'] = train['age_approx'].fillna(0)\n",
    "train['anatom_site_general_challenge'] = train['anatom_site_general_challenge'].fillna('na')\n",
    "\n",
    "test['sex'] = test['sex'].fillna('na')\n",
    "test['age_approx'] = test['age_approx'].fillna(0)\n",
    "test['anatom_site_general_challenge'] = test['anatom_site_general_challenge'].fillna('na')"
   ]
  },
  {
   "cell_type": "markdown",
   "metadata": {},
   "source": [
    "The below code computes the width and height of corresponding Train images which are in jpeg format."
   ]
  },
  {
   "cell_type": "code",
   "execution_count": 3,
   "metadata": {
    "execution": {
     "iopub.execute_input": "2020-08-14T02:17:36.863020Z",
     "iopub.status.busy": "2020-08-14T02:17:36.861672Z",
     "iopub.status.idle": "2020-08-14T02:20:41.823140Z",
     "shell.execute_reply": "2020-08-14T02:20:41.822266Z"
    },
    "papermill": {
     "duration": 184.984763,
     "end_time": "2020-08-14T02:20:41.823289",
     "exception": false,
     "start_time": "2020-08-14T02:17:36.838526",
     "status": "completed"
    },
    "tags": []
   },
   "outputs": [
    {
     "name": "stderr",
     "output_type": "stream",
     "text": [
      "100%|██████████| 33126/33126 [03:04<00:00, 179.11it/s]\n"
     ]
    }
   ],
   "source": [
    "trn_images = train['image_name'].values\n",
    "trn_sizes = np.zeros((trn_images.shape[0],2))\n",
    "for i, img_path in enumerate(tqdm(trn_images)):\n",
    "    img = Image.open(os.path.join('../input/siim-isic-melanoma-classification/jpeg/train/', f'{img_path}.jpg'))\n",
    "    trn_sizes[i] = np.array([img.size[0],img.size[1]])"
   ]
  },
  {
   "cell_type": "code",
   "execution_count": null,
   "metadata": {},
   "outputs": [],
   "source": [
    "The below code computes the width and height of corresponding Test images which are in jpeg format."
   ]
  },
  {
   "cell_type": "code",
   "execution_count": 4,
   "metadata": {
    "execution": {
     "iopub.execute_input": "2020-08-14T02:20:42.075315Z",
     "iopub.status.busy": "2020-08-14T02:20:42.074246Z",
     "iopub.status.idle": "2020-08-14T02:21:41.064534Z",
     "shell.execute_reply": "2020-08-14T02:21:41.063754Z"
    },
    "papermill": {
     "duration": 59.120278,
     "end_time": "2020-08-14T02:21:41.064758",
     "exception": false,
     "start_time": "2020-08-14T02:20:41.944480",
     "status": "completed"
    },
    "tags": []
   },
   "outputs": [
    {
     "name": "stderr",
     "output_type": "stream",
     "text": [
      "100%|██████████| 10982/10982 [00:58<00:00, 186.19it/s]\n"
     ]
    }
   ],
   "source": [
    "test_images = test['image_name'].values\n",
    "test_sizes = np.zeros((test_images.shape[0],2))\n",
    "for i, img_path in enumerate(tqdm(test_images)):\n",
    "    img = Image.open(os.path.join('../input/siim-isic-melanoma-classification/jpeg/test/', f'{img_path}.jpg'))\n",
    "    test_sizes[i] = np.array([img.size[0],img.size[1]])"
   ]
  },
  {
   "cell_type": "markdown",
   "metadata": {},
   "source": [
    "Now, we append the \"width\" and \"heights\" columns to the pandas dataframes."
   ]
  },
  {
   "cell_type": "code",
   "execution_count": 5,
   "metadata": {
    "execution": {
     "iopub.execute_input": "2020-08-14T02:21:41.389816Z",
     "iopub.status.busy": "2020-08-14T02:21:41.388482Z",
     "iopub.status.idle": "2020-08-14T02:21:41.395397Z",
     "shell.execute_reply": "2020-08-14T02:21:41.394504Z"
    },
    "papermill": {
     "duration": 0.174325,
     "end_time": "2020-08-14T02:21:41.395546",
     "exception": false,
     "start_time": "2020-08-14T02:21:41.221221",
     "status": "completed"
    },
    "tags": []
   },
   "outputs": [],
   "source": [
    "train['w'] = trn_sizes[:,0]\n",
    "train['h'] = trn_sizes[:,1]\n",
    "test['w'] = test_sizes[:,0]\n",
    "test['h'] = test_sizes[:,1]"
   ]
  },
  {
   "cell_type": "markdown",
   "metadata": {},
   "source": [
    "We will convert \"sex\", \"anatom_site_general_challenge\" features in both Train & Test into Categorical features. Finally, we will also save them as \"train_meta_size.csv\" & \"test_meta_size.csv\"."
   ]
  },
  {
   "cell_type": "code",
   "execution_count": 6,
   "metadata": {
    "execution": {
     "iopub.execute_input": "2020-08-14T02:21:41.725720Z",
     "iopub.status.busy": "2020-08-14T02:21:41.724863Z",
     "iopub.status.idle": "2020-08-14T02:21:41.760675Z",
     "shell.execute_reply": "2020-08-14T02:21:41.759924Z"
    },
    "papermill": {
     "duration": 0.210392,
     "end_time": "2020-08-14T02:21:41.760811",
     "exception": false,
     "start_time": "2020-08-14T02:21:41.550419",
     "status": "completed"
    },
    "tags": []
   },
   "outputs": [],
   "source": [
    "le = preprocessing.LabelEncoder()\n",
    "\n",
    "train.sex = le.fit_transform(train.sex)\n",
    "train.anatom_site_general_challenge = le.fit_transform(train.anatom_site_general_challenge)\n",
    "test.sex = le.fit_transform(test.sex)\n",
    "test.anatom_site_general_challenge = le.fit_transform(test.anatom_site_general_challenge)\n",
    "\n",
    "feature_names = ['sex','age_approx','anatom_site_general_challenge','w','h']\n",
    "ycol = ['target']\n",
    "\n",
    "train[feature_names + ycol].to_csv('train_meta_size.csv', index=False)\n",
    "test[feature_names ].to_csv('test_meta_size.csv', index=False)"
   ]
  },
  {
   "cell_type": "markdown",
   "metadata": {
    "papermill": {
     "duration": 0.153774,
     "end_time": "2020-08-14T02:21:43.268663",
     "exception": false,
     "start_time": "2020-08-14T02:21:43.114889",
     "status": "completed"
    },
    "tags": []
   },
   "source": [
    "The problem with the above approach is that we have very different distribution of missing values in train and test sets, so any algorithms that are sensitive to those discrepancies will lead to difference between the local CV and LB. We'll try to do somethign a bit more sophisticated now. \n",
    "\n",
    "### 2.2 Approach 2\n",
    "We will now perform Data Imputation in a different way. But, firstly, we will load the train and Test csv files again."
   ]
  },
  {
   "cell_type": "code",
   "execution_count": 10,
   "metadata": {
    "execution": {
     "iopub.execute_input": "2020-08-14T02:21:44.047986Z",
     "iopub.status.busy": "2020-08-14T02:21:44.047096Z",
     "iopub.status.idle": "2020-08-14T02:21:44.061349Z",
     "shell.execute_reply": "2020-08-14T02:21:44.060622Z"
    },
    "papermill": {
     "duration": 0.186218,
     "end_time": "2020-08-14T02:21:44.061505",
     "exception": false,
     "start_time": "2020-08-14T02:21:43.875287",
     "status": "completed"
    },
    "tags": []
   },
   "outputs": [
    {
     "data": {
      "text/html": [
       "<div>\n",
       "<style scoped>\n",
       "    .dataframe tbody tr th:only-of-type {\n",
       "        vertical-align: middle;\n",
       "    }\n",
       "\n",
       "    .dataframe tbody tr th {\n",
       "        vertical-align: top;\n",
       "    }\n",
       "\n",
       "    .dataframe thead th {\n",
       "        text-align: right;\n",
       "    }\n",
       "</style>\n",
       "<table border=\"1\" class=\"dataframe\">\n",
       "  <thead>\n",
       "    <tr style=\"text-align: right;\">\n",
       "      <th></th>\n",
       "      <th>image_name</th>\n",
       "      <th>patient_id</th>\n",
       "      <th>sex</th>\n",
       "      <th>age_approx</th>\n",
       "      <th>anatom_site_general_challenge</th>\n",
       "    </tr>\n",
       "  </thead>\n",
       "  <tbody>\n",
       "    <tr>\n",
       "      <th>0</th>\n",
       "      <td>ISIC_0052060</td>\n",
       "      <td>IP_3579794</td>\n",
       "      <td>male</td>\n",
       "      <td>70.0</td>\n",
       "      <td>NaN</td>\n",
       "    </tr>\n",
       "    <tr>\n",
       "      <th>1</th>\n",
       "      <td>ISIC_0052349</td>\n",
       "      <td>IP_7782715</td>\n",
       "      <td>male</td>\n",
       "      <td>40.0</td>\n",
       "      <td>lower extremity</td>\n",
       "    </tr>\n",
       "    <tr>\n",
       "      <th>2</th>\n",
       "      <td>ISIC_0058510</td>\n",
       "      <td>IP_7960270</td>\n",
       "      <td>female</td>\n",
       "      <td>55.0</td>\n",
       "      <td>torso</td>\n",
       "    </tr>\n",
       "    <tr>\n",
       "      <th>3</th>\n",
       "      <td>ISIC_0073313</td>\n",
       "      <td>IP_6375035</td>\n",
       "      <td>female</td>\n",
       "      <td>50.0</td>\n",
       "      <td>torso</td>\n",
       "    </tr>\n",
       "    <tr>\n",
       "      <th>4</th>\n",
       "      <td>ISIC_0073502</td>\n",
       "      <td>IP_0589375</td>\n",
       "      <td>female</td>\n",
       "      <td>45.0</td>\n",
       "      <td>lower extremity</td>\n",
       "    </tr>\n",
       "  </tbody>\n",
       "</table>\n",
       "</div>"
      ],
      "text/plain": [
       "     image_name  patient_id     sex  age_approx anatom_site_general_challenge\n",
       "0  ISIC_0052060  IP_3579794    male        70.0                           NaN\n",
       "1  ISIC_0052349  IP_7782715    male        40.0               lower extremity\n",
       "2  ISIC_0058510  IP_7960270  female        55.0                         torso\n",
       "3  ISIC_0073313  IP_6375035  female        50.0                         torso\n",
       "4  ISIC_0073502  IP_0589375  female        45.0               lower extremity"
      ]
     },
     "execution_count": 10,
     "metadata": {},
     "output_type": "execute_result"
    }
   ],
   "source": [
    "train = pd.read_csv('../input/siim-isic-melanoma-classification/train.csv')\n",
    "test = pd.read_csv('../input/siim-isic-melanoma-classification/test.csv')\n",
    "\n",
    "test.head()"
   ]
  },
  {
   "cell_type": "markdown",
   "metadata": {},
   "source": [
    "Printing sample data from test.csv."
   ]
  },
  {
   "cell_type": "code",
   "execution_count": 11,
   "metadata": {
    "execution": {
     "iopub.execute_input": "2020-08-14T02:21:44.397180Z",
     "iopub.status.busy": "2020-08-14T02:21:44.396117Z",
     "iopub.status.idle": "2020-08-14T02:21:44.401231Z",
     "shell.execute_reply": "2020-08-14T02:21:44.400590Z"
    },
    "papermill": {
     "duration": 0.18022,
     "end_time": "2020-08-14T02:21:44.401363",
     "exception": false,
     "start_time": "2020-08-14T02:21:44.221143",
     "status": "completed"
    },
    "tags": []
   },
   "outputs": [
    {
     "data": {
      "text/html": [
       "<div>\n",
       "<style scoped>\n",
       "    .dataframe tbody tr th:only-of-type {\n",
       "        vertical-align: middle;\n",
       "    }\n",
       "\n",
       "    .dataframe tbody tr th {\n",
       "        vertical-align: top;\n",
       "    }\n",
       "\n",
       "    .dataframe thead th {\n",
       "        text-align: right;\n",
       "    }\n",
       "</style>\n",
       "<table border=\"1\" class=\"dataframe\">\n",
       "  <thead>\n",
       "    <tr style=\"text-align: right;\">\n",
       "      <th></th>\n",
       "      <th>image_name</th>\n",
       "      <th>patient_id</th>\n",
       "      <th>sex</th>\n",
       "      <th>age_approx</th>\n",
       "      <th>anatom_site_general_challenge</th>\n",
       "      <th>diagnosis</th>\n",
       "      <th>benign_malignant</th>\n",
       "      <th>target</th>\n",
       "    </tr>\n",
       "  </thead>\n",
       "  <tbody>\n",
       "    <tr>\n",
       "      <th>0</th>\n",
       "      <td>ISIC_2637011</td>\n",
       "      <td>IP_7279968</td>\n",
       "      <td>male</td>\n",
       "      <td>45.0</td>\n",
       "      <td>head/neck</td>\n",
       "      <td>unknown</td>\n",
       "      <td>benign</td>\n",
       "      <td>0</td>\n",
       "    </tr>\n",
       "    <tr>\n",
       "      <th>1</th>\n",
       "      <td>ISIC_0015719</td>\n",
       "      <td>IP_3075186</td>\n",
       "      <td>female</td>\n",
       "      <td>45.0</td>\n",
       "      <td>upper extremity</td>\n",
       "      <td>unknown</td>\n",
       "      <td>benign</td>\n",
       "      <td>0</td>\n",
       "    </tr>\n",
       "    <tr>\n",
       "      <th>2</th>\n",
       "      <td>ISIC_0052212</td>\n",
       "      <td>IP_2842074</td>\n",
       "      <td>female</td>\n",
       "      <td>50.0</td>\n",
       "      <td>lower extremity</td>\n",
       "      <td>nevus</td>\n",
       "      <td>benign</td>\n",
       "      <td>0</td>\n",
       "    </tr>\n",
       "    <tr>\n",
       "      <th>3</th>\n",
       "      <td>ISIC_0068279</td>\n",
       "      <td>IP_6890425</td>\n",
       "      <td>female</td>\n",
       "      <td>45.0</td>\n",
       "      <td>head/neck</td>\n",
       "      <td>unknown</td>\n",
       "      <td>benign</td>\n",
       "      <td>0</td>\n",
       "    </tr>\n",
       "    <tr>\n",
       "      <th>4</th>\n",
       "      <td>ISIC_0074268</td>\n",
       "      <td>IP_8723313</td>\n",
       "      <td>female</td>\n",
       "      <td>55.0</td>\n",
       "      <td>upper extremity</td>\n",
       "      <td>unknown</td>\n",
       "      <td>benign</td>\n",
       "      <td>0</td>\n",
       "    </tr>\n",
       "  </tbody>\n",
       "</table>\n",
       "</div>"
      ],
      "text/plain": [
       "     image_name  patient_id     sex  age_approx anatom_site_general_challenge  \\\n",
       "0  ISIC_2637011  IP_7279968    male        45.0                     head/neck   \n",
       "1  ISIC_0015719  IP_3075186  female        45.0               upper extremity   \n",
       "2  ISIC_0052212  IP_2842074  female        50.0               lower extremity   \n",
       "3  ISIC_0068279  IP_6890425  female        45.0                     head/neck   \n",
       "4  ISIC_0074268  IP_8723313  female        55.0               upper extremity   \n",
       "\n",
       "  diagnosis benign_malignant  target  \n",
       "0   unknown           benign       0  \n",
       "1   unknown           benign       0  \n",
       "2     nevus           benign       0  \n",
       "3   unknown           benign       0  \n",
       "4   unknown           benign       0  "
      ]
     },
     "execution_count": 11,
     "metadata": {},
     "output_type": "execute_result"
    }
   ],
   "source": [
    "train.head()"
   ]
  },
  {
   "cell_type": "markdown",
   "metadata": {},
   "source": [
    "Printing unique values of \"diagnosis\" feature in Train."
   ]
  },
  {
   "cell_type": "code",
   "execution_count": 12,
   "metadata": {
    "execution": {
     "iopub.execute_input": "2020-08-14T02:21:44.755006Z",
     "iopub.status.busy": "2020-08-14T02:21:44.753257Z",
     "iopub.status.idle": "2020-08-14T02:21:44.760769Z",
     "shell.execute_reply": "2020-08-14T02:21:44.760129Z"
    },
    "papermill": {
     "duration": 0.204201,
     "end_time": "2020-08-14T02:21:44.760912",
     "exception": false,
     "start_time": "2020-08-14T02:21:44.556711",
     "status": "completed"
    },
    "tags": []
   },
   "outputs": [
    {
     "data": {
      "text/plain": [
       "(array(['atypical melanocytic proliferation', 'cafe-au-lait macule',\n",
       "        'lentigo NOS', 'lichenoid keratosis', 'melanoma', 'nevus',\n",
       "        'seborrheic keratosis', 'solar lentigo', 'unknown'], dtype=object),\n",
       " array([    1,     1,    44,    37,   584,  5193,   135,     7, 27124]))"
      ]
     },
     "execution_count": 12,
     "metadata": {},
     "output_type": "execute_result"
    }
   ],
   "source": [
    "np.unique(train.diagnosis.values, return_counts=True)"
   ]
  },
  {
   "cell_type": "markdown",
   "metadata": {},
   "source": [
    "Making a list of Features that need to be imputated. We will also combine the Train and Test dataframes before computation."
   ]
  },
  {
   "cell_type": "code",
   "execution_count": 13,
   "metadata": {
    "execution": {
     "iopub.execute_input": "2020-08-14T02:21:45.082475Z",
     "iopub.status.busy": "2020-08-14T02:21:45.081599Z",
     "iopub.status.idle": "2020-08-14T02:21:45.094824Z",
     "shell.execute_reply": "2020-08-14T02:21:45.094159Z"
    },
    "papermill": {
     "duration": 0.177016,
     "end_time": "2020-08-14T02:21:45.094972",
     "exception": false,
     "start_time": "2020-08-14T02:21:44.917956",
     "status": "completed"
    },
    "tags": []
   },
   "outputs": [],
   "source": [
    "cols = ['sex', 'age_approx', 'anatom_site_general_challenge']\n",
    "\n",
    "train_test = train[cols].append(test[cols])"
   ]
  },
  {
   "cell_type": "markdown",
   "metadata": {},
   "source": [
    "Imputing the values in Train & Test features as follows:\n",
    "1. Sex feature with with the most common value(i.e. male) from the combined Train & Test data.\n",
    "2. age_approx with mean age from the combined Train & Test data.\n",
    "3. anatom_site_general_challenge with the most common value(i.e. unknown) from the combined Train & Test data."
   ]
  },
  {
   "cell_type": "code",
   "execution_count": 18,
   "metadata": {
    "execution": {
     "iopub.execute_input": "2020-08-14T02:21:46.870683Z",
     "iopub.status.busy": "2020-08-14T02:21:46.869649Z",
     "iopub.status.idle": "2020-08-14T02:21:46.875506Z",
     "shell.execute_reply": "2020-08-14T02:21:46.874631Z"
    },
    "papermill": {
     "duration": 0.179011,
     "end_time": "2020-08-14T02:21:46.875654",
     "exception": false,
     "start_time": "2020-08-14T02:21:46.696643",
     "status": "completed"
    },
    "tags": []
   },
   "outputs": [
    {
     "data": {
      "text/html": [
       "<div>\n",
       "<style scoped>\n",
       "    .dataframe tbody tr th:only-of-type {\n",
       "        vertical-align: middle;\n",
       "    }\n",
       "\n",
       "    .dataframe tbody tr th {\n",
       "        vertical-align: top;\n",
       "    }\n",
       "\n",
       "    .dataframe thead th {\n",
       "        text-align: right;\n",
       "    }\n",
       "</style>\n",
       "<table border=\"1\" class=\"dataframe\">\n",
       "  <thead>\n",
       "    <tr style=\"text-align: right;\">\n",
       "      <th></th>\n",
       "      <th>image_name</th>\n",
       "      <th>patient_id</th>\n",
       "      <th>sex</th>\n",
       "      <th>age_approx</th>\n",
       "      <th>anatom_site_general_challenge</th>\n",
       "    </tr>\n",
       "  </thead>\n",
       "  <tbody>\n",
       "    <tr>\n",
       "      <th>0</th>\n",
       "      <td>ISIC_0052060</td>\n",
       "      <td>IP_3579794</td>\n",
       "      <td>male</td>\n",
       "      <td>70.0</td>\n",
       "      <td>torso</td>\n",
       "    </tr>\n",
       "    <tr>\n",
       "      <th>1</th>\n",
       "      <td>ISIC_0052349</td>\n",
       "      <td>IP_7782715</td>\n",
       "      <td>male</td>\n",
       "      <td>40.0</td>\n",
       "      <td>lower extremity</td>\n",
       "    </tr>\n",
       "    <tr>\n",
       "      <th>2</th>\n",
       "      <td>ISIC_0058510</td>\n",
       "      <td>IP_7960270</td>\n",
       "      <td>female</td>\n",
       "      <td>55.0</td>\n",
       "      <td>torso</td>\n",
       "    </tr>\n",
       "    <tr>\n",
       "      <th>3</th>\n",
       "      <td>ISIC_0073313</td>\n",
       "      <td>IP_6375035</td>\n",
       "      <td>female</td>\n",
       "      <td>50.0</td>\n",
       "      <td>torso</td>\n",
       "    </tr>\n",
       "    <tr>\n",
       "      <th>4</th>\n",
       "      <td>ISIC_0073502</td>\n",
       "      <td>IP_0589375</td>\n",
       "      <td>female</td>\n",
       "      <td>45.0</td>\n",
       "      <td>lower extremity</td>\n",
       "    </tr>\n",
       "  </tbody>\n",
       "</table>\n",
       "</div>"
      ],
      "text/plain": [
       "     image_name  patient_id     sex  age_approx anatom_site_general_challenge\n",
       "0  ISIC_0052060  IP_3579794    male        70.0                         torso\n",
       "1  ISIC_0052349  IP_7782715    male        40.0               lower extremity\n",
       "2  ISIC_0058510  IP_7960270  female        55.0                         torso\n",
       "3  ISIC_0073313  IP_6375035  female        50.0                         torso\n",
       "4  ISIC_0073502  IP_0589375  female        45.0               lower extremity"
      ]
     },
     "execution_count": 18,
     "metadata": {},
     "output_type": "execute_result"
    }
   ],
   "source": [
    "train_test['age_approx'] = train_test['age_approx'].fillna(train_test['age_approx'].mean())\n",
    "train_test['sex'] = train_test['sex'].fillna(train_test['sex'].value_counts().index[0])\n",
    "train_test['anatom_site_general_challenge'] = train_test['anatom_site_general_challenge'].fillna(train_test['anatom_site_general_challenge'].value_counts().index[0])\n",
    "\n",
    "train[cols] = train_test[:train.shape[0]][cols].values\n",
    "test[cols] = train_test[train.shape[0]:][cols].values\n",
    "\n",
    "test.head()"
   ]
  },
  {
   "cell_type": "markdown",
   "metadata": {},
   "source": [
    "The below code computes the width and height of corresponding Train & Test images which are in jpeg format."
   ]
  },
  {
   "cell_type": "code",
   "execution_count": 19,
   "metadata": {
    "execution": {
     "iopub.execute_input": "2020-08-14T02:21:47.210513Z",
     "iopub.status.busy": "2020-08-14T02:21:47.209566Z",
     "iopub.status.idle": "2020-08-14T02:25:49.752825Z",
     "shell.execute_reply": "2020-08-14T02:25:49.750813Z"
    },
    "papermill": {
     "duration": 242.717546,
     "end_time": "2020-08-14T02:25:49.753028",
     "exception": false,
     "start_time": "2020-08-14T02:21:47.035482",
     "status": "completed"
    },
    "tags": []
   },
   "outputs": [
    {
     "name": "stderr",
     "output_type": "stream",
     "text": [
      "100%|██████████| 33126/33126 [03:05<00:00, 178.54it/s]\n",
      "100%|██████████| 10982/10982 [00:56<00:00, 193.81it/s]\n"
     ]
    }
   ],
   "source": [
    "trn_images = train['image_name'].values\n",
    "trn_sizes = np.zeros((trn_images.shape[0],2))\n",
    "for i, img_path in enumerate(tqdm(trn_images)):\n",
    "    img = Image.open(os.path.join('../input/siim-isic-melanoma-classification/jpeg/train/', f'{img_path}.jpg'))\n",
    "    trn_sizes[i] = np.array([img.size[0],img.size[1]])\n",
    "    \n",
    "    \n",
    "test_images = test['image_name'].values\n",
    "test_sizes = np.zeros((test_images.shape[0],2))\n",
    "for i, img_path in enumerate(tqdm(test_images)):\n",
    "    img = Image.open(os.path.join('../input/siim-isic-melanoma-classification/jpeg/test/', f'{img_path}.jpg'))\n",
    "    test_sizes[i] = np.array([img.size[0],img.size[1]])"
   ]
  },
  {
   "cell_type": "markdown",
   "metadata": {
    "execution": {
     "iopub.execute_input": "2020-08-14T02:25:50.361289Z",
     "iopub.status.busy": "2020-08-14T02:25:50.360154Z",
     "iopub.status.idle": "2020-08-14T02:25:50.367023Z",
     "shell.execute_reply": "2020-08-14T02:25:50.366214Z"
    },
    "papermill": {
     "duration": 0.312126,
     "end_time": "2020-08-14T02:25:50.367181",
     "exception": false,
     "start_time": "2020-08-14T02:25:50.055055",
     "status": "completed"
    },
    "tags": []
   },
   "source": [
    "Now, we append the \"width\" and \"heights\" columns to the pandas dataframes."
   ]
  },
  {
   "cell_type": "code",
   "execution_count": 21,
   "metadata": {
    "execution": {
     "iopub.execute_input": "2020-08-14T02:25:50.995226Z",
     "iopub.status.busy": "2020-08-14T02:25:50.982531Z",
     "iopub.status.idle": "2020-08-14T02:25:51.027898Z",
     "shell.execute_reply": "2020-08-14T02:25:51.027225Z"
    },
    "papermill": {
     "duration": 0.354802,
     "end_time": "2020-08-14T02:25:51.028064",
     "exception": false,
     "start_time": "2020-08-14T02:25:50.673262",
     "status": "completed"
    },
    "tags": []
   },
   "outputs": [],
   "source": [
    "train['w'] = trn_sizes[:,0]\n",
    "train['h'] = trn_sizes[:,1]\n",
    "test['w'] = test_sizes[:,0]\n",
    "test['h'] = test_sizes[:,1]"
   ]
  },
  {
   "cell_type": "markdown",
   "metadata": {},
   "source": [
    "We will convert \"sex\", \"anatom_site_general_challenge\" features in both Train & Test into Categorical features."
   ]
  },
  {
   "cell_type": "code",
   "execution_count": 22,
   "metadata": {
    "execution": {
     "iopub.execute_input": "2020-08-14T02:25:51.694291Z",
     "iopub.status.busy": "2020-08-14T02:25:51.693244Z",
     "iopub.status.idle": "2020-08-14T02:25:51.698463Z",
     "shell.execute_reply": "2020-08-14T02:25:51.697642Z"
    },
    "papermill": {
     "duration": 0.322468,
     "end_time": "2020-08-14T02:25:51.698604",
     "exception": false,
     "start_time": "2020-08-14T02:25:51.376136",
     "status": "completed"
    },
    "tags": []
   },
   "outputs": [
    {
     "data": {
      "text/html": [
       "<div>\n",
       "<style scoped>\n",
       "    .dataframe tbody tr th:only-of-type {\n",
       "        vertical-align: middle;\n",
       "    }\n",
       "\n",
       "    .dataframe tbody tr th {\n",
       "        vertical-align: top;\n",
       "    }\n",
       "\n",
       "    .dataframe thead th {\n",
       "        text-align: right;\n",
       "    }\n",
       "</style>\n",
       "<table border=\"1\" class=\"dataframe\">\n",
       "  <thead>\n",
       "    <tr style=\"text-align: right;\">\n",
       "      <th></th>\n",
       "      <th>image_name</th>\n",
       "      <th>patient_id</th>\n",
       "      <th>sex</th>\n",
       "      <th>age_approx</th>\n",
       "      <th>anatom_site_general_challenge</th>\n",
       "      <th>diagnosis</th>\n",
       "      <th>benign_malignant</th>\n",
       "      <th>target</th>\n",
       "      <th>w</th>\n",
       "      <th>h</th>\n",
       "    </tr>\n",
       "  </thead>\n",
       "  <tbody>\n",
       "    <tr>\n",
       "      <th>0</th>\n",
       "      <td>ISIC_2637011</td>\n",
       "      <td>IP_7279968</td>\n",
       "      <td>1</td>\n",
       "      <td>45.0</td>\n",
       "      <td>0</td>\n",
       "      <td>unknown</td>\n",
       "      <td>benign</td>\n",
       "      <td>0</td>\n",
       "      <td>6000.0</td>\n",
       "      <td>4000.0</td>\n",
       "    </tr>\n",
       "    <tr>\n",
       "      <th>1</th>\n",
       "      <td>ISIC_0015719</td>\n",
       "      <td>IP_3075186</td>\n",
       "      <td>0</td>\n",
       "      <td>45.0</td>\n",
       "      <td>5</td>\n",
       "      <td>unknown</td>\n",
       "      <td>benign</td>\n",
       "      <td>0</td>\n",
       "      <td>6000.0</td>\n",
       "      <td>4000.0</td>\n",
       "    </tr>\n",
       "    <tr>\n",
       "      <th>2</th>\n",
       "      <td>ISIC_0052212</td>\n",
       "      <td>IP_2842074</td>\n",
       "      <td>0</td>\n",
       "      <td>50.0</td>\n",
       "      <td>1</td>\n",
       "      <td>nevus</td>\n",
       "      <td>benign</td>\n",
       "      <td>0</td>\n",
       "      <td>1872.0</td>\n",
       "      <td>1053.0</td>\n",
       "    </tr>\n",
       "    <tr>\n",
       "      <th>3</th>\n",
       "      <td>ISIC_0068279</td>\n",
       "      <td>IP_6890425</td>\n",
       "      <td>0</td>\n",
       "      <td>45.0</td>\n",
       "      <td>0</td>\n",
       "      <td>unknown</td>\n",
       "      <td>benign</td>\n",
       "      <td>0</td>\n",
       "      <td>1872.0</td>\n",
       "      <td>1053.0</td>\n",
       "    </tr>\n",
       "    <tr>\n",
       "      <th>4</th>\n",
       "      <td>ISIC_0074268</td>\n",
       "      <td>IP_8723313</td>\n",
       "      <td>0</td>\n",
       "      <td>55.0</td>\n",
       "      <td>5</td>\n",
       "      <td>unknown</td>\n",
       "      <td>benign</td>\n",
       "      <td>0</td>\n",
       "      <td>6000.0</td>\n",
       "      <td>4000.0</td>\n",
       "    </tr>\n",
       "  </tbody>\n",
       "</table>\n",
       "</div>"
      ],
      "text/plain": [
       "     image_name  patient_id  sex  age_approx  anatom_site_general_challenge  \\\n",
       "0  ISIC_2637011  IP_7279968    1        45.0                              0   \n",
       "1  ISIC_0015719  IP_3075186    0        45.0                              5   \n",
       "2  ISIC_0052212  IP_2842074    0        50.0                              1   \n",
       "3  ISIC_0068279  IP_6890425    0        45.0                              0   \n",
       "4  ISIC_0074268  IP_8723313    0        55.0                              5   \n",
       "\n",
       "  diagnosis benign_malignant  target       w       h  \n",
       "0   unknown           benign       0  6000.0  4000.0  \n",
       "1   unknown           benign       0  6000.0  4000.0  \n",
       "2     nevus           benign       0  1872.0  1053.0  \n",
       "3   unknown           benign       0  1872.0  1053.0  \n",
       "4   unknown           benign       0  6000.0  4000.0  "
      ]
     },
     "execution_count": 22,
     "metadata": {},
     "output_type": "execute_result"
    }
   ],
   "source": [
    "le = preprocessing.LabelEncoder()\n",
    "\n",
    "le.fit(train_test.sex)\n",
    "\n",
    "train.sex = le.transform(train.sex)\n",
    "test.sex = le.transform(test.sex)\n",
    "\n",
    "le = preprocessing.LabelEncoder()\n",
    "\n",
    "le.fit(train_test.anatom_site_general_challenge)\n",
    "\n",
    "train.anatom_site_general_challenge = le.transform(train.anatom_site_general_challenge)\n",
    "test.anatom_site_general_challenge = le.transform(test.anatom_site_general_challenge)\n",
    "\n",
    "\n",
    "train.head()"
   ]
  },
  {
   "cell_type": "markdown",
   "metadata": {},
   "source": [
    "Printing sample Test rows."
   ]
  },
  {
   "cell_type": "code",
   "execution_count": 23,
   "metadata": {
    "execution": {
     "iopub.execute_input": "2020-08-14T02:25:52.319800Z",
     "iopub.status.busy": "2020-08-14T02:25:52.318643Z",
     "iopub.status.idle": "2020-08-14T02:25:52.324552Z",
     "shell.execute_reply": "2020-08-14T02:25:52.323839Z"
    },
    "papermill": {
     "duration": 0.326525,
     "end_time": "2020-08-14T02:25:52.324703",
     "exception": false,
     "start_time": "2020-08-14T02:25:51.998178",
     "status": "completed"
    },
    "scrolled": true,
    "tags": []
   },
   "outputs": [
    {
     "data": {
      "text/html": [
       "<div>\n",
       "<style scoped>\n",
       "    .dataframe tbody tr th:only-of-type {\n",
       "        vertical-align: middle;\n",
       "    }\n",
       "\n",
       "    .dataframe tbody tr th {\n",
       "        vertical-align: top;\n",
       "    }\n",
       "\n",
       "    .dataframe thead th {\n",
       "        text-align: right;\n",
       "    }\n",
       "</style>\n",
       "<table border=\"1\" class=\"dataframe\">\n",
       "  <thead>\n",
       "    <tr style=\"text-align: right;\">\n",
       "      <th></th>\n",
       "      <th>image_name</th>\n",
       "      <th>patient_id</th>\n",
       "      <th>sex</th>\n",
       "      <th>age_approx</th>\n",
       "      <th>anatom_site_general_challenge</th>\n",
       "      <th>w</th>\n",
       "      <th>h</th>\n",
       "    </tr>\n",
       "  </thead>\n",
       "  <tbody>\n",
       "    <tr>\n",
       "      <th>0</th>\n",
       "      <td>ISIC_0052060</td>\n",
       "      <td>IP_3579794</td>\n",
       "      <td>1</td>\n",
       "      <td>70.0</td>\n",
       "      <td>4</td>\n",
       "      <td>6000.0</td>\n",
       "      <td>4000.0</td>\n",
       "    </tr>\n",
       "    <tr>\n",
       "      <th>1</th>\n",
       "      <td>ISIC_0052349</td>\n",
       "      <td>IP_7782715</td>\n",
       "      <td>1</td>\n",
       "      <td>40.0</td>\n",
       "      <td>1</td>\n",
       "      <td>6000.0</td>\n",
       "      <td>4000.0</td>\n",
       "    </tr>\n",
       "    <tr>\n",
       "      <th>2</th>\n",
       "      <td>ISIC_0058510</td>\n",
       "      <td>IP_7960270</td>\n",
       "      <td>0</td>\n",
       "      <td>55.0</td>\n",
       "      <td>4</td>\n",
       "      <td>6000.0</td>\n",
       "      <td>4000.0</td>\n",
       "    </tr>\n",
       "    <tr>\n",
       "      <th>3</th>\n",
       "      <td>ISIC_0073313</td>\n",
       "      <td>IP_6375035</td>\n",
       "      <td>0</td>\n",
       "      <td>50.0</td>\n",
       "      <td>4</td>\n",
       "      <td>6000.0</td>\n",
       "      <td>4000.0</td>\n",
       "    </tr>\n",
       "    <tr>\n",
       "      <th>4</th>\n",
       "      <td>ISIC_0073502</td>\n",
       "      <td>IP_0589375</td>\n",
       "      <td>0</td>\n",
       "      <td>45.0</td>\n",
       "      <td>1</td>\n",
       "      <td>1920.0</td>\n",
       "      <td>1080.0</td>\n",
       "    </tr>\n",
       "  </tbody>\n",
       "</table>\n",
       "</div>"
      ],
      "text/plain": [
       "     image_name  patient_id  sex  age_approx  anatom_site_general_challenge  \\\n",
       "0  ISIC_0052060  IP_3579794    1        70.0                              4   \n",
       "1  ISIC_0052349  IP_7782715    1        40.0                              1   \n",
       "2  ISIC_0058510  IP_7960270    0        55.0                              4   \n",
       "3  ISIC_0073313  IP_6375035    0        50.0                              4   \n",
       "4  ISIC_0073502  IP_0589375    0        45.0                              1   \n",
       "\n",
       "        w       h  \n",
       "0  6000.0  4000.0  \n",
       "1  6000.0  4000.0  \n",
       "2  6000.0  4000.0  \n",
       "3  6000.0  4000.0  \n",
       "4  1920.0  1080.0  "
      ]
     },
     "execution_count": 23,
     "metadata": {},
     "output_type": "execute_result"
    }
   ],
   "source": [
    "test.head()"
   ]
  },
  {
   "cell_type": "markdown",
   "metadata": {},
   "source": [
    "Finally, we will also save them as \"train_meta_size_2.csv\" & \"test_meta_size_2.csv\"."
   ]
  },
  {
   "cell_type": "code",
   "execution_count": 24,
   "metadata": {
    "execution": {
     "iopub.execute_input": "2020-08-14T02:25:53.014834Z",
     "iopub.status.busy": "2020-08-14T02:25:53.013950Z",
     "iopub.status.idle": "2020-08-14T02:25:53.308149Z",
     "shell.execute_reply": "2020-08-14T02:25:53.307392Z"
    },
    "papermill": {
     "duration": 0.664245,
     "end_time": "2020-08-14T02:25:53.308308",
     "exception": false,
     "start_time": "2020-08-14T02:25:52.644063",
     "status": "completed"
    },
    "tags": []
   },
   "outputs": [],
   "source": [
    "train[feature_names + ycol].to_csv('train_meta_size_2.csv', index=False)\n",
    "test[feature_names ].to_csv('test_meta_size_2.csv', index=False)"
   ]
  },
  {
   "cell_type": "markdown",
   "metadata": {
    "papermill": {
     "duration": 0.303481,
     "end_time": "2020-08-14T02:25:54.529484",
     "exception": false,
     "start_time": "2020-08-14T02:25:54.226003",
     "status": "completed"
    },
    "tags": []
   },
   "source": [
    "We'll now add metafeatures from final layer the trained VGG-16 Model with attention:"
   ]
  },
  {
   "cell_type": "code",
   "execution_count": 26,
   "metadata": {
    "execution": {
     "iopub.execute_input": "2020-08-14T02:25:55.200843Z",
     "iopub.status.busy": "2020-08-14T02:25:55.199969Z",
     "iopub.status.idle": "2020-08-14T02:25:55.268808Z",
     "shell.execute_reply": "2020-08-14T02:25:55.268169Z"
    },
    "papermill": {
     "duration": 0.38515,
     "end_time": "2020-08-14T02:25:55.268951",
     "exception": false,
     "start_time": "2020-08-14T02:25:54.883801",
     "status": "completed"
    },
    "tags": []
   },
   "outputs": [
    {
     "data": {
      "text/html": [
       "<div>\n",
       "<style scoped>\n",
       "    .dataframe tbody tr th:only-of-type {\n",
       "        vertical-align: middle;\n",
       "    }\n",
       "\n",
       "    .dataframe tbody tr th {\n",
       "        vertical-align: top;\n",
       "    }\n",
       "\n",
       "    .dataframe thead th {\n",
       "        text-align: right;\n",
       "    }\n",
       "</style>\n",
       "<table border=\"1\" class=\"dataframe\">\n",
       "  <thead>\n",
       "    <tr style=\"text-align: right;\">\n",
       "      <th></th>\n",
       "      <th>image_name</th>\n",
       "      <th>target</th>\n",
       "      <th>pred</th>\n",
       "      <th>fold</th>\n",
       "    </tr>\n",
       "  </thead>\n",
       "  <tbody>\n",
       "    <tr>\n",
       "      <th>0</th>\n",
       "      <td>ISIC_2637011</td>\n",
       "      <td>0</td>\n",
       "      <td>0.018716</td>\n",
       "      <td>0</td>\n",
       "    </tr>\n",
       "    <tr>\n",
       "      <th>1</th>\n",
       "      <td>ISIC_0076262</td>\n",
       "      <td>0</td>\n",
       "      <td>0.025360</td>\n",
       "      <td>0</td>\n",
       "    </tr>\n",
       "    <tr>\n",
       "      <th>2</th>\n",
       "      <td>ISIC_0074268</td>\n",
       "      <td>0</td>\n",
       "      <td>0.024038</td>\n",
       "      <td>0</td>\n",
       "    </tr>\n",
       "    <tr>\n",
       "      <th>3</th>\n",
       "      <td>ISIC_0015719</td>\n",
       "      <td>0</td>\n",
       "      <td>0.020294</td>\n",
       "      <td>0</td>\n",
       "    </tr>\n",
       "    <tr>\n",
       "      <th>4</th>\n",
       "      <td>ISIC_0082543</td>\n",
       "      <td>0</td>\n",
       "      <td>0.020425</td>\n",
       "      <td>0</td>\n",
       "    </tr>\n",
       "  </tbody>\n",
       "</table>\n",
       "</div>"
      ],
      "text/plain": [
       "     image_name  target      pred  fold\n",
       "0  ISIC_2637011       0  0.018716     0\n",
       "1  ISIC_0076262       0  0.025360     0\n",
       "2  ISIC_0074268       0  0.024038     0\n",
       "3  ISIC_0015719       0  0.020294     0\n",
       "4  ISIC_0082543       0  0.020425     0"
      ]
     },
     "execution_count": 26,
     "metadata": {},
     "output_type": "execute_result"
    }
   ],
   "source": [
    "oof_c = pd.read_csv('../input/output/submission_train.csv')\n",
    "submission_c = pd.read_csv('../input/outpu/submission.csv')\n",
    "oof_c.head()"
   ]
  },
  {
   "cell_type": "markdown",
   "metadata": {},
   "source": [
    "append the contents to test."
   ]
  },
  {
   "cell_type": "code",
   "execution_count": 34,
   "metadata": {
    "execution": {
     "iopub.execute_input": "2020-08-14T02:26:00.449973Z",
     "iopub.status.busy": "2020-08-14T02:26:00.448732Z",
     "iopub.status.idle": "2020-08-14T02:26:00.453477Z",
     "shell.execute_reply": "2020-08-14T02:26:00.452696Z"
    },
    "papermill": {
     "duration": 0.325624,
     "end_time": "2020-08-14T02:26:00.453615",
     "exception": false,
     "start_time": "2020-08-14T02:26:00.127991",
     "status": "completed"
    },
    "tags": []
   },
   "outputs": [
    {
     "data": {
      "text/html": [
       "<div>\n",
       "<style scoped>\n",
       "    .dataframe tbody tr th:only-of-type {\n",
       "        vertical-align: middle;\n",
       "    }\n",
       "\n",
       "    .dataframe tbody tr th {\n",
       "        vertical-align: top;\n",
       "    }\n",
       "\n",
       "    .dataframe thead th {\n",
       "        text-align: right;\n",
       "    }\n",
       "</style>\n",
       "<table border=\"1\" class=\"dataframe\">\n",
       "  <thead>\n",
       "    <tr style=\"text-align: right;\">\n",
       "      <th></th>\n",
       "      <th>image_name</th>\n",
       "      <th>patient_id</th>\n",
       "      <th>sex</th>\n",
       "      <th>age_approx</th>\n",
       "      <th>anatom_site_general_challenge</th>\n",
       "      <th>w</th>\n",
       "      <th>h</th>\n",
       "      <th>pred</th>\n",
       "    </tr>\n",
       "  </thead>\n",
       "  <tbody>\n",
       "    <tr>\n",
       "      <th>0</th>\n",
       "      <td>ISIC_0052060</td>\n",
       "      <td>IP_3579794</td>\n",
       "      <td>1</td>\n",
       "      <td>70.0</td>\n",
       "      <td>4</td>\n",
       "      <td>6000.0</td>\n",
       "      <td>4000.0</td>\n",
       "      <td>0.027359</td>\n",
       "    </tr>\n",
       "    <tr>\n",
       "      <th>1</th>\n",
       "      <td>ISIC_0052349</td>\n",
       "      <td>IP_7782715</td>\n",
       "      <td>1</td>\n",
       "      <td>40.0</td>\n",
       "      <td>1</td>\n",
       "      <td>6000.0</td>\n",
       "      <td>4000.0</td>\n",
       "      <td>0.025799</td>\n",
       "    </tr>\n",
       "    <tr>\n",
       "      <th>2</th>\n",
       "      <td>ISIC_0058510</td>\n",
       "      <td>IP_7960270</td>\n",
       "      <td>0</td>\n",
       "      <td>55.0</td>\n",
       "      <td>4</td>\n",
       "      <td>6000.0</td>\n",
       "      <td>4000.0</td>\n",
       "      <td>0.025983</td>\n",
       "    </tr>\n",
       "    <tr>\n",
       "      <th>3</th>\n",
       "      <td>ISIC_0073313</td>\n",
       "      <td>IP_6375035</td>\n",
       "      <td>0</td>\n",
       "      <td>50.0</td>\n",
       "      <td>4</td>\n",
       "      <td>6000.0</td>\n",
       "      <td>4000.0</td>\n",
       "      <td>0.024942</td>\n",
       "    </tr>\n",
       "    <tr>\n",
       "      <th>4</th>\n",
       "      <td>ISIC_0073502</td>\n",
       "      <td>IP_0589375</td>\n",
       "      <td>0</td>\n",
       "      <td>45.0</td>\n",
       "      <td>1</td>\n",
       "      <td>1920.0</td>\n",
       "      <td>1080.0</td>\n",
       "      <td>0.032569</td>\n",
       "    </tr>\n",
       "  </tbody>\n",
       "</table>\n",
       "</div>"
      ],
      "text/plain": [
       "     image_name  patient_id  sex  age_approx  anatom_site_general_challenge  \\\n",
       "0  ISIC_0052060  IP_3579794    1        70.0                              4   \n",
       "1  ISIC_0052349  IP_7782715    1        40.0                              1   \n",
       "2  ISIC_0058510  IP_7960270    0        55.0                              4   \n",
       "3  ISIC_0073313  IP_6375035    0        50.0                              4   \n",
       "4  ISIC_0073502  IP_0589375    0        45.0                              1   \n",
       "\n",
       "        w       h      pred  \n",
       "0  6000.0  4000.0  0.027359  \n",
       "1  6000.0  4000.0  0.025799  \n",
       "2  6000.0  4000.0  0.025983  \n",
       "3  6000.0  4000.0  0.024942  \n",
       "4  1920.0  1080.0  0.032569  "
      ]
     },
     "execution_count": 34,
     "metadata": {},
     "output_type": "execute_result"
    }
   ],
   "source": [
    "del oof_c['target']\n",
    "\n",
    "test['pred'] = submission_c['target']\n",
    "test.head()"
   ]
  },
  {
   "cell_type": "markdown",
   "metadata": {},
   "source": [
    "We will convert \"sex\", \"anatom_site_general_challenge\" features in both Train & Test into Categorical features. Finally, we will also save them as \"train_meta_size3.csv\" & \"test_meta_size3.csv\"."
   ]
  },
  {
   "cell_type": "code",
   "execution_count": 36,
   "metadata": {
    "execution": {
     "iopub.execute_input": "2020-08-14T02:26:01.742690Z",
     "iopub.status.busy": "2020-08-14T02:26:01.741823Z",
     "iopub.status.idle": "2020-08-14T02:26:02.145300Z",
     "shell.execute_reply": "2020-08-14T02:26:02.144389Z"
    },
    "papermill": {
     "duration": 0.709034,
     "end_time": "2020-08-14T02:26:02.145459",
     "exception": false,
     "start_time": "2020-08-14T02:26:01.436425",
     "status": "completed"
    },
    "tags": []
   },
   "outputs": [],
   "source": [
    "train_2[feature_names + ['fold'] + ycol].to_csv('train_meta_size_3.csv', index=False)\n",
    "test[feature_names ].to_csv('test_meta_size_3.csv', index=False)"
   ]
  },
  {
   "cell_type": "code",
   "execution_count": null,
   "metadata": {
    "papermill": {
     "duration": 0.303242,
     "end_time": "2020-08-14T02:31:52.232420",
     "exception": false,
     "start_time": "2020-08-14T02:31:51.929178",
     "status": "completed"
    },
    "tags": []
   },
   "outputs": [],
   "source": []
  }
 ],
 "metadata": {
  "kernelspec": {
   "display_name": "Python 3",
   "language": "python",
   "name": "python3"
  },
  "language_info": {
   "codemirror_mode": {
    "name": "ipython",
    "version": 3
   },
   "file_extension": ".py",
   "mimetype": "text/x-python",
   "name": "python",
   "nbconvert_exporter": "python",
   "pygments_lexer": "ipython3",
   "version": "3.6.10"
  },
  "papermill": {
   "duration": 863.007796,
   "end_time": "2020-08-14T02:31:52.734381",
   "environment_variables": {},
   "exception": null,
   "input_path": "__notebook__.ipynb",
   "output_path": "__notebook__.ipynb",
   "parameters": {},
   "start_time": "2020-08-14T02:17:29.726585",
   "version": "2.1.0"
  }
 },
 "nbformat": 4,
 "nbformat_minor": 4
}
